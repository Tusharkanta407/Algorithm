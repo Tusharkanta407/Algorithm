{
 "cells": [
  {
   "cell_type": "code",
   "execution_count": 21,
   "id": "b07c539c",
   "metadata": {},
   "outputs": [
    {
     "name": "stdout",
     "output_type": "stream",
     "text": [
      "[10, 20, 335, 50]\n"
     ]
    }
   ],
   "source": [
    "import heapq\n",
    "nums = [10,50,335,20]\n",
    "heapq.heapify(nums)\n",
    "print(nums)"
   ]
  },
  {
   "cell_type": "code",
   "execution_count": 22,
   "id": "d221298e",
   "metadata": {},
   "outputs": [
    {
     "name": "stdout",
     "output_type": "stream",
     "text": [
      "[10, 40, 89, 98]\n"
     ]
    }
   ],
   "source": [
    "heap = []\n",
    "\n",
    "heapq.heappush(heap,10)\n",
    "heapq.heappush(heap,40)\n",
    "heapq.heappush(heap,89)\n",
    "heapq.heappush(heap,98)\n",
    "\n",
    "print(heap)\n",
    "\n"
   ]
  },
  {
   "cell_type": "code",
   "execution_count": 23,
   "id": "019b21e0",
   "metadata": {},
   "outputs": [
    {
     "name": "stdout",
     "output_type": "stream",
     "text": [
      "10\n",
      "after the pop:[40, 98, 89]\n"
     ]
    }
   ],
   "source": [
    "a = heapq.heappop(heap)\n",
    "print(a)\n",
    "print(f\"after the pop:{heap}\")\n"
   ]
  },
  {
   "cell_type": "code",
   "execution_count": 24,
   "id": "10655988",
   "metadata": {},
   "outputs": [
    {
     "name": "stdout",
     "output_type": "stream",
     "text": [
      "Help on module heapq:\n",
      "\n",
      "NAME\n",
      "    heapq - Heap queue algorithm (a.k.a. priority queue).\n",
      "\n",
      "MODULE REFERENCE\n",
      "    https://docs.python.org/3.10/library/heapq.html\n",
      "    \n",
      "    The following documentation is automatically generated from the Python\n",
      "    source files.  It may be incomplete, incorrect or include features that\n",
      "    are considered implementation detail and may vary between Python\n",
      "    implementations.  When in doubt, consult the module reference at the\n",
      "    location listed above.\n",
      "\n",
      "DESCRIPTION\n",
      "    Heaps are arrays for which a[k] <= a[2*k+1] and a[k] <= a[2*k+2] for\n",
      "    all k, counting elements from 0.  For the sake of comparison,\n",
      "    non-existing elements are considered to be infinite.  The interesting\n",
      "    property of a heap is that a[0] is always its smallest element.\n",
      "    \n",
      "    Usage:\n",
      "    \n",
      "    heap = []            # creates an empty heap\n",
      "    heappush(heap, item) # pushes a new item on the heap\n",
      "    item = heappop(heap) # pops the smallest item from the heap\n",
      "    item = heap[0]       # smallest item on the heap without popping it\n",
      "    heapify(x)           # transforms list into a heap, in-place, in linear time\n",
      "    item = heapreplace(heap, item) # pops and returns smallest item, and adds\n",
      "                                   # new item; the heap size is unchanged\n",
      "    \n",
      "    Our API differs from textbook heap algorithms as follows:\n",
      "    \n",
      "    - We use 0-based indexing.  This makes the relationship between the\n",
      "      index for a node and the indexes for its children slightly less\n",
      "      obvious, but is more suitable since Python uses 0-based indexing.\n",
      "    \n",
      "    - Our heappop() method returns the smallest item, not the largest.\n",
      "    \n",
      "    These two make it possible to view the heap as a regular Python list\n",
      "    without surprises: heap[0] is the smallest item, and heap.sort()\n",
      "    maintains the heap invariant!\n",
      "\n",
      "FUNCTIONS\n",
      "    heapify(heap, /)\n",
      "        Transform list into a heap, in-place, in O(len(heap)) time.\n",
      "    \n",
      "    heappop(heap, /)\n",
      "        Pop the smallest item off the heap, maintaining the heap invariant.\n",
      "    \n",
      "    heappush(heap, item, /)\n",
      "        Push item onto heap, maintaining the heap invariant.\n",
      "    \n",
      "    heappushpop(heap, item, /)\n",
      "        Push item on the heap, then pop and return the smallest item from the heap.\n",
      "        \n",
      "        The combined action runs more efficiently than heappush() followed by\n",
      "        a separate call to heappop().\n",
      "    \n",
      "    heapreplace(heap, item, /)\n",
      "        Pop and return the current smallest value, and add the new item.\n",
      "        \n",
      "        This is more efficient than heappop() followed by heappush(), and can be\n",
      "        more appropriate when using a fixed-size heap.  Note that the value\n",
      "        returned may be larger than item!  That constrains reasonable uses of\n",
      "        this routine unless written as part of a conditional replacement:\n",
      "        \n",
      "            if item > heap[0]:\n",
      "                item = heapreplace(heap, item)\n",
      "    \n",
      "    merge(*iterables, key=None, reverse=False)\n",
      "        Merge multiple sorted inputs into a single sorted output.\n",
      "        \n",
      "        Similar to sorted(itertools.chain(*iterables)) but returns a generator,\n",
      "        does not pull the data into memory all at once, and assumes that each of\n",
      "        the input streams is already sorted (smallest to largest).\n",
      "        \n",
      "        >>> list(merge([1,3,5,7], [0,2,4,8], [5,10,15,20], [], [25]))\n",
      "        [0, 1, 2, 3, 4, 5, 5, 7, 8, 10, 15, 20, 25]\n",
      "        \n",
      "        If *key* is not None, applies a key function to each element to determine\n",
      "        its sort order.\n",
      "        \n",
      "        >>> list(merge(['dog', 'horse'], ['cat', 'fish', 'kangaroo'], key=len))\n",
      "        ['dog', 'cat', 'fish', 'horse', 'kangaroo']\n",
      "    \n",
      "    nlargest(n, iterable, key=None)\n",
      "        Find the n largest elements in a dataset.\n",
      "        \n",
      "        Equivalent to:  sorted(iterable, key=key, reverse=True)[:n]\n",
      "    \n",
      "    nsmallest(n, iterable, key=None)\n",
      "        Find the n smallest elements in a dataset.\n",
      "        \n",
      "        Equivalent to:  sorted(iterable, key=key)[:n]\n",
      "\n",
      "DATA\n",
      "    __about__ = 'Heap queues\\n\\n[explanation by François Pinard]\\n\\nH... t...\n",
      "    __all__ = ['heappush', 'heappop', 'heapify', 'heapreplace', 'merge', '...\n",
      "\n",
      "FILE\n",
      "    c:\\users\\hp\\appdata\\local\\programs\\python\\python310\\lib\\heapq.py\n",
      "\n",
      "\n"
     ]
    }
   ],
   "source": [
    "help(heapq)"
   ]
  },
  {
   "cell_type": "code",
   "execution_count": 25,
   "id": "8f4e29e7",
   "metadata": {},
   "outputs": [
    {
     "name": "stdout",
     "output_type": "stream",
     "text": [
      "40\n"
     ]
    }
   ],
   "source": [
    "print(heap[0])"
   ]
  },
  {
   "cell_type": "code",
   "execution_count": 26,
   "id": "67ca96dd",
   "metadata": {},
   "outputs": [
    {
     "name": "stdout",
     "output_type": "stream",
     "text": [
      "before changes:-[40, 98, 89]\n",
      "[40, 98, 89]\n"
     ]
    }
   ],
   "source": [
    "print(f\"before changes:-{heap}\")\n",
    "push_pop = heapq.heappushpop(heap,5)\n",
    "print(heap)"
   ]
  },
  {
   "cell_type": "code",
   "execution_count": 27,
   "id": "c169e303",
   "metadata": {},
   "outputs": [
    {
     "name": "stdout",
     "output_type": "stream",
     "text": [
      "3 smallest [5, 10, 15]\n",
      "3 largest [30, 25, 20]\n"
     ]
    }
   ],
   "source": [
    "nums = [20,5,15,10,30,25]\n",
    "heapq.heapify(nums)\n",
    "print(\"3 smallest\",heapq.nsmallest(3,nums))\n",
    "print(\"3 largest\",heapq.nlargest(3,nums))\n"
   ]
  },
  {
   "cell_type": "code",
   "execution_count": 28,
   "id": "eea1a483",
   "metadata": {},
   "outputs": [
    {
     "name": "stdout",
     "output_type": "stream",
     "text": [
      "[-30, -10, -25]\n"
     ]
    }
   ],
   "source": [
    "norm_heap = []\n",
    "heapq.heappush(norm_heap,-10)\n",
    "heapq.heappush(norm_heap,-30)\n",
    "heapq.heappush(norm_heap,-25)\n",
    "print(norm_heap)\n"
   ]
  },
  {
   "cell_type": "code",
   "execution_count": 29,
   "id": "683aab22",
   "metadata": {},
   "outputs": [],
   "source": [
    "heuristic = {\n",
    "'A':'10',\n",
    "'B':'8',\n",
    "'C':'5',\n",
    "'D':'7',\n",
    "'E':'3',\n",
    "'F':'6',\n",
    "'G':'5',\n",
    "'H':'3',\n",
    "'I':'1',\n",
    "'J':'0'\n",
    "}\n",
    "\n",
    "graph ={\n",
    "    'A':{'B':6,'F':3},\n",
    "    'B':{'C':3,'D':2},\n",
    "    'C':{'E':5,'D':1},\n",
    "    'D':{'E':8},\n",
    "    'F':{'G':1,'H':7},\n",
    "    'G':{'I':3},\n",
    "    'H':{'I':6}, \n",
    "    'I':{'J':3,'E':5},\n",
    "    'J':{'E':3}   \n",
    "}\n",
    "\n"
   ]
  },
  {
   "cell_type": "code",
   "execution_count": 35,
   "id": "6ddf998d",
   "metadata": {},
   "outputs": [
    {
     "name": "stdout",
     "output_type": "stream",
     "text": [
      "Shortest Path using A*: ['A', 'F', 'G', 'I', 'J']\n",
      "Total Cost: 10\n"
     ]
    }
   ],
   "source": [
    "import heapq\n",
    "\n",
    "# Heuristic values (h)\n",
    "heuristic = {\n",
    "    'A': 10, 'B': 8, 'C': 5, 'D': 7, 'E': 3,\n",
    "    'F': 6, 'G': 5, 'H': 3, 'I': 1, 'J': 0\n",
    "}\n",
    "\n",
    "# Graph adjacency list with edge weights\n",
    "graph ={\n",
    "    'A':{'B':6,'F':3},\n",
    "    'B':{'C':3,'D':2},\n",
    "    'C':{'E':5,'D':1},\n",
    "    'D':{'E':8},\n",
    "    'E':{'I':5,'J':5},\n",
    "    'F':{'G':1,'H':7},\n",
    "    'G':{'I':3},\n",
    "    'H':{'I':6}, \n",
    "    'I':{'J':3,'E':5},\n",
    "    'J':{'E':3}\n",
    "}\n",
    "def astar(graph , start , goal , heuristic):\n",
    "    priority_queue = []\n",
    "    heapq.heappush(priority_queue , (heuristic[start] , 0 , start , [start]))\n",
    "    while priority_queue:\n",
    "        f , g ,node , path = heapq.heappop(priority_queue)\n",
    "        if node == goal:\n",
    "            return path , g \n",
    "        else:\n",
    "            for side_node , cost in graph[node].items():\n",
    "                new_g = g + cost\n",
    "                new_f = new_g + heuristic[side_node]\n",
    "                heapq.heappush(priority_queue , (new_f , new_g , side_node , path + [side_node]))\n",
    "        return None, float('inf')        \n",
    "        \n",
    "print(\"Shortest Path using A*:\", path)\n",
    "print(\"Total Cost:\", cost)\n"
   ]
  }
 ],
 "metadata": {
  "kernelspec": {
   "display_name": "Python 3",
   "language": "python",
   "name": "python3"
  },
  "language_info": {
   "codemirror_mode": {
    "name": "ipython",
    "version": 3
   },
   "file_extension": ".py",
   "mimetype": "text/x-python",
   "name": "python",
   "nbconvert_exporter": "python",
   "pygments_lexer": "ipython3",
   "version": "3.10.0"
  }
 },
 "nbformat": 4,
 "nbformat_minor": 5
}
